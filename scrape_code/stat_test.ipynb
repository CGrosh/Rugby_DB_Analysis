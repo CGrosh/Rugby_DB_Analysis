{
 "cells": [
  {
   "cell_type": "code",
   "execution_count": 1,
   "id": "9e495f21-7390-4d03-8806-549721cf13de",
   "metadata": {},
   "outputs": [],
   "source": [
    "import pandas as pd \n",
    "import requests \n",
    "import numpy as np \n",
    "import json, os, time, pdb "
   ]
  },
  {
   "cell_type": "code",
   "execution_count": 2,
   "id": "5c7a02c9-11b8-4b64-8234-2474531b72b3",
   "metadata": {},
   "outputs": [
    {
     "data": {
      "text/plain": [
       "['urc_game_stats_2023.csv',\n",
       " 'urc_game_stats_2024.csv',\n",
       " 'prem_game_stats_2021.csv',\n",
       " 'sr_game_stats_2021.csv',\n",
       " 'prem_game_stats_2024.csv',\n",
       " 'sr_game_stats_2022.csv',\n",
       " 'prem_only_2022_teams.csv',\n",
       " '.ipynb_checkpoints',\n",
       " 'urc_game_stats_2022.csv',\n",
       " 'prem_game_stats_2023.csv',\n",
       " 'sr_game_stats_2024.csv',\n",
       " 'prem_game_stats_2022.csv',\n",
       " 'sr_only_2024_teams.csv',\n",
       " 'urc_game_stats_2021.csv',\n",
       " 'urc_only_2021_teams.csv',\n",
       " 'sr_game_stats_2023.csv',\n",
       " 'urc_only_2022_teams.csv']"
      ]
     },
     "execution_count": 2,
     "metadata": {},
     "output_type": "execute_result"
    }
   ],
   "source": [
    "file_dir = os.listdir('test_data')\n",
    "urc_files = ['test_data/'+i for i in file_dir if 'urc_game' in i]\n",
    "prem_files = [i for i in file_dir if 'prem_game' in i]\n",
    "sr_files = [i for i in file_dir if 'sr_game' in i]\n",
    "\n",
    "file_dir"
   ]
  },
  {
   "cell_type": "code",
   "execution_count": 3,
   "id": "f4fd8dfa-9aeb-4967-bbe6-19bdfe17b326",
   "metadata": {
    "tags": []
   },
   "outputs": [],
   "source": [
    "df = pd.concat(list(map(pd.read_csv, urc_files)))"
   ]
  },
  {
   "cell_type": "code",
   "execution_count": 4,
   "id": "4800230a-2445-4347-85c9-472a7f45027a",
   "metadata": {
    "tags": []
   },
   "outputs": [
    {
     "data": {
      "text/plain": [
       "Index(['game_id', 'league_id', 'home_team', 'home_team_score', 'away_team',\n",
       "       'away_team_score', 'home_tries', 'away_tries', 'home_conversions',\n",
       "       'away_conversions', 'home_penalty_goals', 'away_penalty_goals',\n",
       "       'home_kick_percent', 'away_kick_percent', 'home_total_meters',\n",
       "       'away_total_meters', 'home_kfh', 'away_kfh', 'home_pass_meters',\n",
       "       'away_pass_meters', 'home_runs', 'away_runs', 'home_possession_1h_2h',\n",
       "       'home_territory_1h_2h', 'home_clean_breaks', 'home_defenders_beaten',\n",
       "       'home_offloads', 'home_rucks_won', 'home_mauls_won',\n",
       "       'home_turnovers_conceeded', 'away_possession_1h_2h',\n",
       "       'away_territory_1h_2h', 'away_clean_breaks', 'away_defenders_beaten',\n",
       "       'away_offloads', 'away_rucks_won', 'away_mauls_won',\n",
       "       'away_turnovers_conceeded', 'home_total_possession',\n",
       "       'home_total_territory', 'away_total_possesion', 'away_total_territory',\n",
       "       'home_scrum', 'home_lineout', 'away_scrum', 'away_lineout',\n",
       "       'home_tackles', 'home_tackle_perc', 'away_tackles', 'away_tackle_perc',\n",
       "       'home_red_cards', 'home_yellow_cards', 'home_free_kicks_con',\n",
       "       'away_red_cards', 'away_yellow_cards', 'away_free_kicks_con',\n",
       "       'home_penalties', 'away_penalties', 'date', 'competition', 'season',\n",
       "       'stadium'],\n",
       "      dtype='object')"
      ]
     },
     "execution_count": 4,
     "metadata": {},
     "output_type": "execute_result"
    }
   ],
   "source": [
    "df.columns"
   ]
  },
  {
   "cell_type": "code",
   "execution_count": 5,
   "id": "3e336277-786d-4187-9975-016f3efe9130",
   "metadata": {
    "tags": []
   },
   "outputs": [
    {
     "data": {
      "text/plain": [
       "0       56 / 61 (91%)\n",
       "1      73 / 73 (100%)\n",
       "2       91 / 94 (96%)\n",
       "3      95 / 102 (93%)\n",
       "4       74 / 77 (96%)\n",
       "           ...       \n",
       "93      86 / 92 (93%)\n",
       "94    121 / 124 (97%)\n",
       "95      87 / 90 (96%)\n",
       "96         0 / 0 (0%)\n",
       "97    111 / 117 (94%)\n",
       "Name: home_rucks_won, Length: 438, dtype: object"
      ]
     },
     "execution_count": 5,
     "metadata": {},
     "output_type": "execute_result"
    }
   ],
   "source": [
    "df['home_rucks_won']"
   ]
  },
  {
   "cell_type": "code",
   "execution_count": 6,
   "id": "8a85ec60-e8a9-4994-a0ee-ee23a1961dc1",
   "metadata": {
    "tags": []
   },
   "outputs": [],
   "source": [
    "poss_str = df['home_possession_1h_2h'].iloc[0]"
   ]
  },
  {
   "cell_type": "code",
   "execution_count": 7,
   "id": "f6fb2d06-b370-4af5-92b0-a655f0009ce2",
   "metadata": {
    "tags": []
   },
   "outputs": [],
   "source": [
    "test_str = df['home_rucks_won'].iloc[0]"
   ]
  },
  {
   "cell_type": "code",
   "execution_count": 8,
   "id": "2d6a2393-10c4-4cfc-be1f-ea9de2a2be44",
   "metadata": {
    "tags": []
   },
   "outputs": [
    {
     "data": {
      "text/plain": [
       "'59% '"
      ]
     },
     "execution_count": 8,
     "metadata": {},
     "output_type": "execute_result"
    }
   ],
   "source": [
    "poss_str[:poss_str.find('/')]"
   ]
  },
  {
   "cell_type": "code",
   "execution_count": 11,
   "id": "ccfb012a-e9a2-40be-a9f0-11436723a2d8",
   "metadata": {
    "tags": []
   },
   "outputs": [
    {
     "data": {
      "text/plain": [
       "'56'"
      ]
     },
     "execution_count": 11,
     "metadata": {},
     "output_type": "execute_result"
    }
   ],
   "source": [
    "test_str[:test_str.find('/')-1]"
   ]
  },
  {
   "cell_type": "code",
   "execution_count": 12,
   "id": "337e583e-ba02-4773-8682-69f48f45e5aa",
   "metadata": {
    "tags": []
   },
   "outputs": [],
   "source": [
    "def slice_prop_func(x, char, break_space=True):\n",
    "    \n",
    "    if break_space == True:\n",
    "        space = 1\n",
    "    else:\n",
    "        space = 0\n",
    "    \n",
    "    if char == '/':\n",
    "        return int(x[:x.find(char)-space])\n",
    "    elif char == '(':\n",
    "         return int(x[x.find('/')+space:x.find('(')-space])  \n",
    "    elif char == ')':\n",
    "        return int(x[x.find('(')+space:x.find(')')-space]) * 0.01\n",
    "\n",
    "\n",
    "def slice_poss_terr_func(x):\n",
    "    two_h_val = int(x[x.find('/')+1:].replace('%', '')) * 0.01\n",
    "    one_h_val = int(x[:x.find('/')].replace('%', '')) * 0.01\n",
    "    return one_h_val, two_h_val\n",
    "\n",
    "    "
   ]
  },
  {
   "cell_type": "code",
   "execution_count": 13,
   "id": "c02c3d8c-2068-40c6-9a09-7d47496c5c41",
   "metadata": {},
   "outputs": [],
   "source": [
    "slice_variable_names = ['1h_poss', '2h_poss', '1h_terr', '2h_terr']"
   ]
  },
  {
   "cell_type": "code",
   "execution_count": 14,
   "id": "4bc35d08-ef11-44b7-88be-b8aaa619bd20",
   "metadata": {
    "tags": []
   },
   "outputs": [],
   "source": [
    "df['home_1h_poss'], df['home_2h_poss'] = df['home_possession_1h_2h'].apply(lambda x: slice_poss_terr_func(x)[0]), \\\n",
    "                                                df['home_possession_1h_2h'].apply(lambda x: slice_poss_terr_func(x)[1])\n",
    "\n",
    "df['home_1h_terr'], df['home_2h_terr'] = df['home_territory_1h_2h'].apply(lambda x: slice_poss_terr_func(x)[0]), \\\n",
    "                                                df['home_territory_1h_2h'].apply(lambda x: slice_poss_terr_func(x)[1])\n",
    "\n",
    "df['away_1h_poss'], df['away_2h_poss'] = df['away_possession_1h_2h'].apply(lambda x: slice_poss_terr_func(x)[0]), \\\n",
    "                                                df['away_possession_1h_2h'].apply(lambda x: slice_poss_terr_func(x)[1])\n",
    "\n",
    "df['away_1h_terr'], df['away_2h_terr'] = df['away_territory_1h_2h'].apply(lambda x: slice_poss_terr_func(x)[0]), \\\n",
    "                                                df['away_territory_1h_2h'].apply(lambda x: slice_poss_terr_func(x)[1])"
   ]
  },
  {
   "cell_type": "code",
   "execution_count": 44,
   "id": "112a2eeb-cbd0-45e3-9f78-9fbc47d29240",
   "metadata": {
    "tags": []
   },
   "outputs": [
    {
     "data": {
      "text/html": [
       "<div>\n",
       "<style scoped>\n",
       "    .dataframe tbody tr th:only-of-type {\n",
       "        vertical-align: middle;\n",
       "    }\n",
       "\n",
       "    .dataframe tbody tr th {\n",
       "        vertical-align: top;\n",
       "    }\n",
       "\n",
       "    .dataframe thead th {\n",
       "        text-align: right;\n",
       "    }\n",
       "</style>\n",
       "<table border=\"1\" class=\"dataframe\">\n",
       "  <thead>\n",
       "    <tr style=\"text-align: right;\">\n",
       "      <th></th>\n",
       "      <th>home_1h_poss</th>\n",
       "      <th>home_2h_poss</th>\n",
       "    </tr>\n",
       "  </thead>\n",
       "  <tbody>\n",
       "    <tr>\n",
       "      <th>0</th>\n",
       "      <td>0.59</td>\n",
       "      <td>0.37</td>\n",
       "    </tr>\n",
       "    <tr>\n",
       "      <th>1</th>\n",
       "      <td>0.40</td>\n",
       "      <td>0.48</td>\n",
       "    </tr>\n",
       "    <tr>\n",
       "      <th>2</th>\n",
       "      <td>0.54</td>\n",
       "      <td>0.40</td>\n",
       "    </tr>\n",
       "    <tr>\n",
       "      <th>3</th>\n",
       "      <td>0.42</td>\n",
       "      <td>0.59</td>\n",
       "    </tr>\n",
       "    <tr>\n",
       "      <th>4</th>\n",
       "      <td>0.53</td>\n",
       "      <td>0.57</td>\n",
       "    </tr>\n",
       "    <tr>\n",
       "      <th>...</th>\n",
       "      <td>...</td>\n",
       "      <td>...</td>\n",
       "    </tr>\n",
       "    <tr>\n",
       "      <th>93</th>\n",
       "      <td>0.56</td>\n",
       "      <td>0.51</td>\n",
       "    </tr>\n",
       "    <tr>\n",
       "      <th>94</th>\n",
       "      <td>0.63</td>\n",
       "      <td>0.67</td>\n",
       "    </tr>\n",
       "    <tr>\n",
       "      <th>95</th>\n",
       "      <td>0.47</td>\n",
       "      <td>0.64</td>\n",
       "    </tr>\n",
       "    <tr>\n",
       "      <th>96</th>\n",
       "      <td>0.00</td>\n",
       "      <td>0.00</td>\n",
       "    </tr>\n",
       "    <tr>\n",
       "      <th>97</th>\n",
       "      <td>0.65</td>\n",
       "      <td>0.71</td>\n",
       "    </tr>\n",
       "  </tbody>\n",
       "</table>\n",
       "<p>438 rows × 2 columns</p>\n",
       "</div>"
      ],
      "text/plain": [
       "    home_1h_poss  home_2h_poss\n",
       "0           0.59          0.37\n",
       "1           0.40          0.48\n",
       "2           0.54          0.40\n",
       "3           0.42          0.59\n",
       "4           0.53          0.57\n",
       "..           ...           ...\n",
       "93          0.56          0.51\n",
       "94          0.63          0.67\n",
       "95          0.47          0.64\n",
       "96          0.00          0.00\n",
       "97          0.65          0.71\n",
       "\n",
       "[438 rows x 2 columns]"
      ]
     },
     "execution_count": 44,
     "metadata": {},
     "output_type": "execute_result"
    }
   ],
   "source": [
    "df[['home_1h_poss', 'home_2h_poss']]"
   ]
  },
  {
   "cell_type": "code",
   "execution_count": null,
   "id": "c77a07d7-cab0-46a5-9aaa-d31ea13e09a9",
   "metadata": {},
   "outputs": [],
   "source": [
    "prop_variable_names = {\n",
    "    'rucks_won': 'rucks_won_num', 'rucks_total_num', 'rucks_won_percent',\n",
    "    'mauls_won': 'mauls_won_num', 'mauls_total_num', 'mauls_won_percent', \n",
    "    'scrums_won': 'scrum_won_num', 'scrum_total_num', 'scrum_won_percent', \n",
    "    'lineouts_won': 'lineouts_won_num', 'lineouts_total_num', 'lineouts_won_percent'\n",
    "}\n",
    "\n"
   ]
  },
  {
   "cell_type": "code",
   "execution_count": 45,
   "id": "526d257d-c21a-456a-9083-9ee6ce160337",
   "metadata": {
    "tags": []
   },
   "outputs": [
    {
     "data": {
      "text/html": [
       "<div>\n",
       "<style scoped>\n",
       "    .dataframe tbody tr th:only-of-type {\n",
       "        vertical-align: middle;\n",
       "    }\n",
       "\n",
       "    .dataframe tbody tr th {\n",
       "        vertical-align: top;\n",
       "    }\n",
       "\n",
       "    .dataframe thead th {\n",
       "        text-align: right;\n",
       "    }\n",
       "</style>\n",
       "<table border=\"1\" class=\"dataframe\">\n",
       "  <thead>\n",
       "    <tr style=\"text-align: right;\">\n",
       "      <th></th>\n",
       "      <th>home_scrum</th>\n",
       "    </tr>\n",
       "  </thead>\n",
       "  <tbody>\n",
       "    <tr>\n",
       "      <th>0</th>\n",
       "      <td>9/15 (60%)</td>\n",
       "    </tr>\n",
       "    <tr>\n",
       "      <th>1</th>\n",
       "      <td>10/13 (76%)</td>\n",
       "    </tr>\n",
       "    <tr>\n",
       "      <th>2</th>\n",
       "      <td>6/6 (100%)</td>\n",
       "    </tr>\n",
       "    <tr>\n",
       "      <th>3</th>\n",
       "      <td>5/6 (83%)</td>\n",
       "    </tr>\n",
       "    <tr>\n",
       "      <th>4</th>\n",
       "      <td>6/10 (60%)</td>\n",
       "    </tr>\n",
       "    <tr>\n",
       "      <th>...</th>\n",
       "      <td>...</td>\n",
       "    </tr>\n",
       "    <tr>\n",
       "      <th>93</th>\n",
       "      <td>6/9 (66%)</td>\n",
       "    </tr>\n",
       "    <tr>\n",
       "      <th>94</th>\n",
       "      <td>7/8 (87%)</td>\n",
       "    </tr>\n",
       "    <tr>\n",
       "      <th>95</th>\n",
       "      <td>5/7 (71%)</td>\n",
       "    </tr>\n",
       "    <tr>\n",
       "      <th>96</th>\n",
       "      <td>0/0 (NaN%)</td>\n",
       "    </tr>\n",
       "    <tr>\n",
       "      <th>97</th>\n",
       "      <td>7/9 (77%)</td>\n",
       "    </tr>\n",
       "  </tbody>\n",
       "</table>\n",
       "<p>438 rows × 1 columns</p>\n",
       "</div>"
      ],
      "text/plain": [
       "     home_scrum\n",
       "0    9/15 (60%)\n",
       "1   10/13 (76%)\n",
       "2    6/6 (100%)\n",
       "3     5/6 (83%)\n",
       "4    6/10 (60%)\n",
       "..          ...\n",
       "93    6/9 (66%)\n",
       "94    7/8 (87%)\n",
       "95    5/7 (71%)\n",
       "96   0/0 (NaN%)\n",
       "97    7/9 (77%)\n",
       "\n",
       "[438 rows x 1 columns]"
      ]
     },
     "execution_count": 45,
     "metadata": {},
     "output_type": "execute_result"
    }
   ],
   "source": [
    "df[['home_scrum']]"
   ]
  },
  {
   "cell_type": "code",
   "execution_count": 40,
   "id": "1e083c4e-8a01-4210-99e4-82380dce8f5f",
   "metadata": {
    "tags": []
   },
   "outputs": [],
   "source": [
    "df['home_rucks_won_num'] = df['home_rucks_won'].apply(slice_prop_func, args=('/', ))\n",
    "df['home_rucks_total_num'] = df['home_rucks_won'].apply(slice_prop_func, args=('(',))\n",
    "df['home_rucks_won_percent'] = df['home_rucks_won'].apply(slice_prop_func, args=(')',))"
   ]
  },
  {
   "cell_type": "code",
   "execution_count": 41,
   "id": "e3188615-5a22-4c6d-8606-2f47a9113ee7",
   "metadata": {
    "tags": []
   },
   "outputs": [
    {
     "data": {
      "text/html": [
       "<div>\n",
       "<style scoped>\n",
       "    .dataframe tbody tr th:only-of-type {\n",
       "        vertical-align: middle;\n",
       "    }\n",
       "\n",
       "    .dataframe tbody tr th {\n",
       "        vertical-align: top;\n",
       "    }\n",
       "\n",
       "    .dataframe thead th {\n",
       "        text-align: right;\n",
       "    }\n",
       "</style>\n",
       "<table border=\"1\" class=\"dataframe\">\n",
       "  <thead>\n",
       "    <tr style=\"text-align: right;\">\n",
       "      <th></th>\n",
       "      <th>home_rucks_won</th>\n",
       "      <th>home_rucks_won_num</th>\n",
       "      <th>home_rucks_total_num</th>\n",
       "      <th>home_rucks_won_percent</th>\n",
       "    </tr>\n",
       "  </thead>\n",
       "  <tbody>\n",
       "    <tr>\n",
       "      <th>0</th>\n",
       "      <td>56 / 61 (91%)</td>\n",
       "      <td>56</td>\n",
       "      <td>61</td>\n",
       "      <td>0.91</td>\n",
       "    </tr>\n",
       "    <tr>\n",
       "      <th>1</th>\n",
       "      <td>73 / 73 (100%)</td>\n",
       "      <td>73</td>\n",
       "      <td>73</td>\n",
       "      <td>1.00</td>\n",
       "    </tr>\n",
       "    <tr>\n",
       "      <th>2</th>\n",
       "      <td>91 / 94 (96%)</td>\n",
       "      <td>91</td>\n",
       "      <td>94</td>\n",
       "      <td>0.96</td>\n",
       "    </tr>\n",
       "    <tr>\n",
       "      <th>3</th>\n",
       "      <td>95 / 102 (93%)</td>\n",
       "      <td>95</td>\n",
       "      <td>102</td>\n",
       "      <td>0.93</td>\n",
       "    </tr>\n",
       "    <tr>\n",
       "      <th>4</th>\n",
       "      <td>74 / 77 (96%)</td>\n",
       "      <td>74</td>\n",
       "      <td>77</td>\n",
       "      <td>0.96</td>\n",
       "    </tr>\n",
       "    <tr>\n",
       "      <th>...</th>\n",
       "      <td>...</td>\n",
       "      <td>...</td>\n",
       "      <td>...</td>\n",
       "      <td>...</td>\n",
       "    </tr>\n",
       "    <tr>\n",
       "      <th>93</th>\n",
       "      <td>86 / 92 (93%)</td>\n",
       "      <td>86</td>\n",
       "      <td>92</td>\n",
       "      <td>0.93</td>\n",
       "    </tr>\n",
       "    <tr>\n",
       "      <th>94</th>\n",
       "      <td>121 / 124 (97%)</td>\n",
       "      <td>121</td>\n",
       "      <td>124</td>\n",
       "      <td>0.97</td>\n",
       "    </tr>\n",
       "    <tr>\n",
       "      <th>95</th>\n",
       "      <td>87 / 90 (96%)</td>\n",
       "      <td>87</td>\n",
       "      <td>90</td>\n",
       "      <td>0.96</td>\n",
       "    </tr>\n",
       "    <tr>\n",
       "      <th>96</th>\n",
       "      <td>0 / 0 (0%)</td>\n",
       "      <td>0</td>\n",
       "      <td>0</td>\n",
       "      <td>0.00</td>\n",
       "    </tr>\n",
       "    <tr>\n",
       "      <th>97</th>\n",
       "      <td>111 / 117 (94%)</td>\n",
       "      <td>111</td>\n",
       "      <td>117</td>\n",
       "      <td>0.94</td>\n",
       "    </tr>\n",
       "  </tbody>\n",
       "</table>\n",
       "<p>438 rows × 4 columns</p>\n",
       "</div>"
      ],
      "text/plain": [
       "     home_rucks_won  home_rucks_won_num  home_rucks_total_num  \\\n",
       "0     56 / 61 (91%)                  56                    61   \n",
       "1    73 / 73 (100%)                  73                    73   \n",
       "2     91 / 94 (96%)                  91                    94   \n",
       "3    95 / 102 (93%)                  95                   102   \n",
       "4     74 / 77 (96%)                  74                    77   \n",
       "..              ...                 ...                   ...   \n",
       "93    86 / 92 (93%)                  86                    92   \n",
       "94  121 / 124 (97%)                 121                   124   \n",
       "95    87 / 90 (96%)                  87                    90   \n",
       "96       0 / 0 (0%)                   0                     0   \n",
       "97  111 / 117 (94%)                 111                   117   \n",
       "\n",
       "    home_rucks_won_percent  \n",
       "0                     0.91  \n",
       "1                     1.00  \n",
       "2                     0.96  \n",
       "3                     0.93  \n",
       "4                     0.96  \n",
       "..                     ...  \n",
       "93                    0.93  \n",
       "94                    0.97  \n",
       "95                    0.96  \n",
       "96                    0.00  \n",
       "97                    0.94  \n",
       "\n",
       "[438 rows x 4 columns]"
      ]
     },
     "execution_count": 41,
     "metadata": {},
     "output_type": "execute_result"
    }
   ],
   "source": [
    "df[['home_rucks_won', 'home_rucks_won_num', 'home_rucks_total_num', 'home_rucks_won_percent']]"
   ]
  },
  {
   "cell_type": "code",
   "execution_count": 13,
   "id": "9a9698cc-d6e1-41ae-90b6-7a37c86f4e60",
   "metadata": {
    "tags": []
   },
   "outputs": [
    {
     "data": {
      "text/html": [
       "<div>\n",
       "<style scoped>\n",
       "    .dataframe tbody tr th:only-of-type {\n",
       "        vertical-align: middle;\n",
       "    }\n",
       "\n",
       "    .dataframe tbody tr th {\n",
       "        vertical-align: top;\n",
       "    }\n",
       "\n",
       "    .dataframe thead th {\n",
       "        text-align: right;\n",
       "    }\n",
       "</style>\n",
       "<table border=\"1\" class=\"dataframe\">\n",
       "  <thead>\n",
       "    <tr style=\"text-align: right;\">\n",
       "      <th></th>\n",
       "      <th>home_tackles</th>\n",
       "    </tr>\n",
       "  </thead>\n",
       "  <tbody>\n",
       "    <tr>\n",
       "      <th>0</th>\n",
       "      <td>139/156</td>\n",
       "    </tr>\n",
       "    <tr>\n",
       "      <th>1</th>\n",
       "      <td>210/229</td>\n",
       "    </tr>\n",
       "    <tr>\n",
       "      <th>2</th>\n",
       "      <td>186/205</td>\n",
       "    </tr>\n",
       "    <tr>\n",
       "      <th>3</th>\n",
       "      <td>214/228</td>\n",
       "    </tr>\n",
       "    <tr>\n",
       "      <th>4</th>\n",
       "      <td>105/126</td>\n",
       "    </tr>\n",
       "    <tr>\n",
       "      <th>...</th>\n",
       "      <td>...</td>\n",
       "    </tr>\n",
       "    <tr>\n",
       "      <th>93</th>\n",
       "      <td>138/158</td>\n",
       "    </tr>\n",
       "    <tr>\n",
       "      <th>94</th>\n",
       "      <td>75/88</td>\n",
       "    </tr>\n",
       "    <tr>\n",
       "      <th>95</th>\n",
       "      <td>95/107</td>\n",
       "    </tr>\n",
       "    <tr>\n",
       "      <th>96</th>\n",
       "      <td>0/0</td>\n",
       "    </tr>\n",
       "    <tr>\n",
       "      <th>97</th>\n",
       "      <td>53/71</td>\n",
       "    </tr>\n",
       "  </tbody>\n",
       "</table>\n",
       "<p>438 rows × 1 columns</p>\n",
       "</div>"
      ],
      "text/plain": [
       "   home_tackles\n",
       "0       139/156\n",
       "1       210/229\n",
       "2       186/205\n",
       "3       214/228\n",
       "4       105/126\n",
       "..          ...\n",
       "93      138/158\n",
       "94        75/88\n",
       "95       95/107\n",
       "96          0/0\n",
       "97        53/71\n",
       "\n",
       "[438 rows x 1 columns]"
      ]
     },
     "execution_count": 13,
     "metadata": {},
     "output_type": "execute_result"
    }
   ],
   "source": [
    "df[['home_tackles']]"
   ]
  },
  {
   "cell_type": "code",
   "execution_count": 15,
   "id": "cb144340-7973-48f7-9ba1-2bfe527b8fda",
   "metadata": {
    "tags": []
   },
   "outputs": [
    {
     "data": {
      "text/plain": [
       "'139/156'"
      ]
     },
     "execution_count": 15,
     "metadata": {},
     "output_type": "execute_result"
    }
   ],
   "source": [
    "df['home_tackles'].iloc[0]"
   ]
  },
  {
   "cell_type": "code",
   "execution_count": 14,
   "id": "f7a41693-4eef-4180-812e-ebf5034a75fc",
   "metadata": {
    "tags": []
   },
   "outputs": [
    {
     "data": {
      "text/plain": [
       "Index(['game_id', 'league_id', 'home_team', 'home_team_score', 'away_team',\n",
       "       'away_team_score', 'home_tries', 'away_tries', 'home_conversions',\n",
       "       'away_conversions', 'home_penalty_goals', 'away_penalty_goals',\n",
       "       'home_kick_percent', 'away_kick_percent', 'home_total_meters',\n",
       "       'away_total_meters', 'home_kfh', 'away_kfh', 'home_pass_meters',\n",
       "       'away_pass_meters', 'home_runs', 'away_runs', 'home_possession_1h_2h',\n",
       "       'home_territory_1h_2h', 'home_clean_breaks', 'home_defenders_beaten',\n",
       "       'home_offloads', 'home_rucks_won', 'home_mauls_won',\n",
       "       'home_turnovers_conceeded', 'away_possession_1h_2h',\n",
       "       'away_territory_1h_2h', 'away_clean_breaks', 'away_defenders_beaten',\n",
       "       'away_offloads', 'away_rucks_won', 'away_mauls_won',\n",
       "       'away_turnovers_conceeded', 'home_total_possession',\n",
       "       'home_total_territory', 'away_total_possesion', 'away_total_territory',\n",
       "       'home_scrum', 'home_lineout', 'away_scrum', 'away_lineout',\n",
       "       'home_tackles', 'home_tackle_perc', 'away_tackles', 'away_tackle_perc',\n",
       "       'home_red_cards', 'home_yellow_cards', 'home_free_kicks_con',\n",
       "       'away_red_cards', 'away_yellow_cards', 'away_free_kicks_con',\n",
       "       'home_penalties', 'away_penalties', 'date', 'competition', 'season',\n",
       "       'stadium', 'home_rucks_won_num', 'home_rucks_total_num',\n",
       "       'home_rucks_won_percent'],\n",
       "      dtype='object')"
      ]
     },
     "execution_count": 14,
     "metadata": {},
     "output_type": "execute_result"
    }
   ],
   "source": [
    "df.columns"
   ]
  },
  {
   "cell_type": "code",
   "execution_count": 6,
   "id": "821261c3-fdc2-4f95-b25f-7794fda44569",
   "metadata": {
    "tags": []
   },
   "outputs": [
    {
     "ename": "TypeError",
     "evalue": "unsupported operand type(s) for /: 'str' and 'str'",
     "output_type": "error",
     "traceback": [
      "\u001b[0;31m---------------------------------------------------------------------------\u001b[0m",
      "\u001b[0;31mTypeError\u001b[0m                                 Traceback (most recent call last)",
      "\u001b[0;32m~/anaconda3/envs/sports_env/lib/python3.7/site-packages/pandas/core/ops/array_ops.py\u001b[0m in \u001b[0;36m_na_arithmetic_op\u001b[0;34m(left, right, op, is_cmp)\u001b[0m\n\u001b[1;32m    165\u001b[0m     \u001b[0;32mtry\u001b[0m\u001b[0;34m:\u001b[0m\u001b[0;34m\u001b[0m\u001b[0;34m\u001b[0m\u001b[0m\n\u001b[0;32m--> 166\u001b[0;31m         \u001b[0mresult\u001b[0m \u001b[0;34m=\u001b[0m \u001b[0mfunc\u001b[0m\u001b[0;34m(\u001b[0m\u001b[0mleft\u001b[0m\u001b[0;34m,\u001b[0m \u001b[0mright\u001b[0m\u001b[0;34m)\u001b[0m\u001b[0;34m\u001b[0m\u001b[0;34m\u001b[0m\u001b[0m\n\u001b[0m\u001b[1;32m    167\u001b[0m     \u001b[0;32mexcept\u001b[0m \u001b[0mTypeError\u001b[0m\u001b[0;34m:\u001b[0m\u001b[0;34m\u001b[0m\u001b[0;34m\u001b[0m\u001b[0m\n",
      "\u001b[0;32m~/anaconda3/envs/sports_env/lib/python3.7/site-packages/pandas/core/computation/expressions.py\u001b[0m in \u001b[0;36mevaluate\u001b[0;34m(op, a, b, use_numexpr)\u001b[0m\n\u001b[1;32m    238\u001b[0m             \u001b[0;31m# error: \"None\" not callable\u001b[0m\u001b[0;34m\u001b[0m\u001b[0;34m\u001b[0m\u001b[0;34m\u001b[0m\u001b[0m\n\u001b[0;32m--> 239\u001b[0;31m             \u001b[0;32mreturn\u001b[0m \u001b[0m_evaluate\u001b[0m\u001b[0;34m(\u001b[0m\u001b[0mop\u001b[0m\u001b[0;34m,\u001b[0m \u001b[0mop_str\u001b[0m\u001b[0;34m,\u001b[0m \u001b[0ma\u001b[0m\u001b[0;34m,\u001b[0m \u001b[0mb\u001b[0m\u001b[0;34m)\u001b[0m  \u001b[0;31m# type: ignore[misc]\u001b[0m\u001b[0;34m\u001b[0m\u001b[0;34m\u001b[0m\u001b[0m\n\u001b[0m\u001b[1;32m    240\u001b[0m     \u001b[0;32mreturn\u001b[0m \u001b[0m_evaluate_standard\u001b[0m\u001b[0;34m(\u001b[0m\u001b[0mop\u001b[0m\u001b[0;34m,\u001b[0m \u001b[0mop_str\u001b[0m\u001b[0;34m,\u001b[0m \u001b[0ma\u001b[0m\u001b[0;34m,\u001b[0m \u001b[0mb\u001b[0m\u001b[0;34m)\u001b[0m\u001b[0;34m\u001b[0m\u001b[0;34m\u001b[0m\u001b[0m\n",
      "\u001b[0;32m~/anaconda3/envs/sports_env/lib/python3.7/site-packages/pandas/core/computation/expressions.py\u001b[0m in \u001b[0;36m_evaluate_standard\u001b[0;34m(op, op_str, a, b)\u001b[0m\n\u001b[1;32m     68\u001b[0m         \u001b[0m_store_test_result\u001b[0m\u001b[0;34m(\u001b[0m\u001b[0;32mFalse\u001b[0m\u001b[0;34m)\u001b[0m\u001b[0;34m\u001b[0m\u001b[0;34m\u001b[0m\u001b[0m\n\u001b[0;32m---> 69\u001b[0;31m     \u001b[0;32mreturn\u001b[0m \u001b[0mop\u001b[0m\u001b[0;34m(\u001b[0m\u001b[0ma\u001b[0m\u001b[0;34m,\u001b[0m \u001b[0mb\u001b[0m\u001b[0;34m)\u001b[0m\u001b[0;34m\u001b[0m\u001b[0;34m\u001b[0m\u001b[0m\n\u001b[0m\u001b[1;32m     70\u001b[0m \u001b[0;34m\u001b[0m\u001b[0m\n",
      "\u001b[0;31mTypeError\u001b[0m: unsupported operand type(s) for /: 'str' and 'str'",
      "\nDuring handling of the above exception, another exception occurred:\n",
      "\u001b[0;31mTypeError\u001b[0m                                 Traceback (most recent call last)",
      "\u001b[0;32m<ipython-input-6-03dda5b7c34d>\u001b[0m in \u001b[0;36m<module>\u001b[0;34m\u001b[0m\n\u001b[0;32m----> 1\u001b[0;31m \u001b[0mdfs\u001b[0m\u001b[0;34m[\u001b[0m\u001b[0;34m'away_won_ruck_per'\u001b[0m\u001b[0;34m]\u001b[0m \u001b[0;34m=\u001b[0m \u001b[0mdfs\u001b[0m\u001b[0;34m[\u001b[0m\u001b[0;34m'away_rucks_won'\u001b[0m\u001b[0;34m]\u001b[0m\u001b[0;34m/\u001b[0m\u001b[0;34m(\u001b[0m\u001b[0mdfs\u001b[0m\u001b[0;34m[\u001b[0m\u001b[0;34m'away_rucks_won'\u001b[0m\u001b[0;34m]\u001b[0m \u001b[0;34m+\u001b[0m \u001b[0mdfs\u001b[0m\u001b[0;34m[\u001b[0m\u001b[0;34m'home_rucks_won'\u001b[0m\u001b[0;34m]\u001b[0m\u001b[0;34m)\u001b[0m\u001b[0;34m\u001b[0m\u001b[0;34m\u001b[0m\u001b[0m\n\u001b[0m",
      "\u001b[0;32m~/anaconda3/envs/sports_env/lib/python3.7/site-packages/pandas/core/ops/common.py\u001b[0m in \u001b[0;36mnew_method\u001b[0;34m(self, other)\u001b[0m\n\u001b[1;32m     67\u001b[0m         \u001b[0mother\u001b[0m \u001b[0;34m=\u001b[0m \u001b[0mitem_from_zerodim\u001b[0m\u001b[0;34m(\u001b[0m\u001b[0mother\u001b[0m\u001b[0;34m)\u001b[0m\u001b[0;34m\u001b[0m\u001b[0;34m\u001b[0m\u001b[0m\n\u001b[1;32m     68\u001b[0m \u001b[0;34m\u001b[0m\u001b[0m\n\u001b[0;32m---> 69\u001b[0;31m         \u001b[0;32mreturn\u001b[0m \u001b[0mmethod\u001b[0m\u001b[0;34m(\u001b[0m\u001b[0mself\u001b[0m\u001b[0;34m,\u001b[0m \u001b[0mother\u001b[0m\u001b[0;34m)\u001b[0m\u001b[0;34m\u001b[0m\u001b[0;34m\u001b[0m\u001b[0m\n\u001b[0m\u001b[1;32m     70\u001b[0m \u001b[0;34m\u001b[0m\u001b[0m\n\u001b[1;32m     71\u001b[0m     \u001b[0;32mreturn\u001b[0m \u001b[0mnew_method\u001b[0m\u001b[0;34m\u001b[0m\u001b[0;34m\u001b[0m\u001b[0m\n",
      "\u001b[0;32m~/anaconda3/envs/sports_env/lib/python3.7/site-packages/pandas/core/arraylike.py\u001b[0m in \u001b[0;36m__truediv__\u001b[0;34m(self, other)\u001b[0m\n\u001b[1;32m    114\u001b[0m     \u001b[0;34m@\u001b[0m\u001b[0munpack_zerodim_and_defer\u001b[0m\u001b[0;34m(\u001b[0m\u001b[0;34m\"__truediv__\"\u001b[0m\u001b[0;34m)\u001b[0m\u001b[0;34m\u001b[0m\u001b[0;34m\u001b[0m\u001b[0m\n\u001b[1;32m    115\u001b[0m     \u001b[0;32mdef\u001b[0m \u001b[0m__truediv__\u001b[0m\u001b[0;34m(\u001b[0m\u001b[0mself\u001b[0m\u001b[0;34m,\u001b[0m \u001b[0mother\u001b[0m\u001b[0;34m)\u001b[0m\u001b[0;34m:\u001b[0m\u001b[0;34m\u001b[0m\u001b[0;34m\u001b[0m\u001b[0m\n\u001b[0;32m--> 116\u001b[0;31m         \u001b[0;32mreturn\u001b[0m \u001b[0mself\u001b[0m\u001b[0;34m.\u001b[0m\u001b[0m_arith_method\u001b[0m\u001b[0;34m(\u001b[0m\u001b[0mother\u001b[0m\u001b[0;34m,\u001b[0m \u001b[0moperator\u001b[0m\u001b[0;34m.\u001b[0m\u001b[0mtruediv\u001b[0m\u001b[0;34m)\u001b[0m\u001b[0;34m\u001b[0m\u001b[0;34m\u001b[0m\u001b[0m\n\u001b[0m\u001b[1;32m    117\u001b[0m \u001b[0;34m\u001b[0m\u001b[0m\n\u001b[1;32m    118\u001b[0m     \u001b[0;34m@\u001b[0m\u001b[0munpack_zerodim_and_defer\u001b[0m\u001b[0;34m(\u001b[0m\u001b[0;34m\"__rtruediv__\"\u001b[0m\u001b[0;34m)\u001b[0m\u001b[0;34m\u001b[0m\u001b[0;34m\u001b[0m\u001b[0m\n",
      "\u001b[0;32m~/anaconda3/envs/sports_env/lib/python3.7/site-packages/pandas/core/series.py\u001b[0m in \u001b[0;36m_arith_method\u001b[0;34m(self, other, op)\u001b[0m\n\u001b[1;32m   5524\u001b[0m \u001b[0;34m\u001b[0m\u001b[0m\n\u001b[1;32m   5525\u001b[0m         \u001b[0;32mwith\u001b[0m \u001b[0mnp\u001b[0m\u001b[0;34m.\u001b[0m\u001b[0merrstate\u001b[0m\u001b[0;34m(\u001b[0m\u001b[0mall\u001b[0m\u001b[0;34m=\u001b[0m\u001b[0;34m\"ignore\"\u001b[0m\u001b[0;34m)\u001b[0m\u001b[0;34m:\u001b[0m\u001b[0;34m\u001b[0m\u001b[0;34m\u001b[0m\u001b[0m\n\u001b[0;32m-> 5526\u001b[0;31m             \u001b[0mresult\u001b[0m \u001b[0;34m=\u001b[0m \u001b[0mops\u001b[0m\u001b[0;34m.\u001b[0m\u001b[0marithmetic_op\u001b[0m\u001b[0;34m(\u001b[0m\u001b[0mlvalues\u001b[0m\u001b[0;34m,\u001b[0m \u001b[0mrvalues\u001b[0m\u001b[0;34m,\u001b[0m \u001b[0mop\u001b[0m\u001b[0;34m)\u001b[0m\u001b[0;34m\u001b[0m\u001b[0;34m\u001b[0m\u001b[0m\n\u001b[0m\u001b[1;32m   5527\u001b[0m \u001b[0;34m\u001b[0m\u001b[0m\n\u001b[1;32m   5528\u001b[0m         \u001b[0;32mreturn\u001b[0m \u001b[0mself\u001b[0m\u001b[0;34m.\u001b[0m\u001b[0m_construct_result\u001b[0m\u001b[0;34m(\u001b[0m\u001b[0mresult\u001b[0m\u001b[0;34m,\u001b[0m \u001b[0mname\u001b[0m\u001b[0;34m=\u001b[0m\u001b[0mres_name\u001b[0m\u001b[0;34m)\u001b[0m\u001b[0;34m\u001b[0m\u001b[0;34m\u001b[0m\u001b[0m\n",
      "\u001b[0;32m~/anaconda3/envs/sports_env/lib/python3.7/site-packages/pandas/core/ops/array_ops.py\u001b[0m in \u001b[0;36marithmetic_op\u001b[0;34m(left, right, op)\u001b[0m\n\u001b[1;32m    222\u001b[0m         \u001b[0m_bool_arith_check\u001b[0m\u001b[0;34m(\u001b[0m\u001b[0mop\u001b[0m\u001b[0;34m,\u001b[0m \u001b[0mleft\u001b[0m\u001b[0;34m,\u001b[0m \u001b[0mright\u001b[0m\u001b[0;34m)\u001b[0m\u001b[0;34m\u001b[0m\u001b[0;34m\u001b[0m\u001b[0m\n\u001b[1;32m    223\u001b[0m \u001b[0;34m\u001b[0m\u001b[0m\n\u001b[0;32m--> 224\u001b[0;31m         \u001b[0mres_values\u001b[0m \u001b[0;34m=\u001b[0m \u001b[0m_na_arithmetic_op\u001b[0m\u001b[0;34m(\u001b[0m\u001b[0mleft\u001b[0m\u001b[0;34m,\u001b[0m \u001b[0mright\u001b[0m\u001b[0;34m,\u001b[0m \u001b[0mop\u001b[0m\u001b[0;34m)\u001b[0m\u001b[0;34m\u001b[0m\u001b[0;34m\u001b[0m\u001b[0m\n\u001b[0m\u001b[1;32m    225\u001b[0m \u001b[0;34m\u001b[0m\u001b[0m\n\u001b[1;32m    226\u001b[0m     \u001b[0;32mreturn\u001b[0m \u001b[0mres_values\u001b[0m\u001b[0;34m\u001b[0m\u001b[0;34m\u001b[0m\u001b[0m\n",
      "\u001b[0;32m~/anaconda3/envs/sports_env/lib/python3.7/site-packages/pandas/core/ops/array_ops.py\u001b[0m in \u001b[0;36m_na_arithmetic_op\u001b[0;34m(left, right, op, is_cmp)\u001b[0m\n\u001b[1;32m    171\u001b[0m             \u001b[0;31m# Don't do this for comparisons, as that will handle complex numbers\u001b[0m\u001b[0;34m\u001b[0m\u001b[0;34m\u001b[0m\u001b[0;34m\u001b[0m\u001b[0m\n\u001b[1;32m    172\u001b[0m             \u001b[0;31m#  incorrectly, see GH#32047\u001b[0m\u001b[0;34m\u001b[0m\u001b[0;34m\u001b[0m\u001b[0;34m\u001b[0m\u001b[0m\n\u001b[0;32m--> 173\u001b[0;31m             \u001b[0mresult\u001b[0m \u001b[0;34m=\u001b[0m \u001b[0m_masked_arith_op\u001b[0m\u001b[0;34m(\u001b[0m\u001b[0mleft\u001b[0m\u001b[0;34m,\u001b[0m \u001b[0mright\u001b[0m\u001b[0;34m,\u001b[0m \u001b[0mop\u001b[0m\u001b[0;34m)\u001b[0m\u001b[0;34m\u001b[0m\u001b[0;34m\u001b[0m\u001b[0m\n\u001b[0m\u001b[1;32m    174\u001b[0m         \u001b[0;32melse\u001b[0m\u001b[0;34m:\u001b[0m\u001b[0;34m\u001b[0m\u001b[0;34m\u001b[0m\u001b[0m\n\u001b[1;32m    175\u001b[0m             \u001b[0;32mraise\u001b[0m\u001b[0;34m\u001b[0m\u001b[0;34m\u001b[0m\u001b[0m\n",
      "\u001b[0;32m~/anaconda3/envs/sports_env/lib/python3.7/site-packages/pandas/core/ops/array_ops.py\u001b[0m in \u001b[0;36m_masked_arith_op\u001b[0;34m(x, y, op)\u001b[0m\n\u001b[1;32m    110\u001b[0m         \u001b[0;31m# See GH#5284, GH#5035, GH#19448 for historical reference\u001b[0m\u001b[0;34m\u001b[0m\u001b[0;34m\u001b[0m\u001b[0;34m\u001b[0m\u001b[0m\n\u001b[1;32m    111\u001b[0m         \u001b[0;32mif\u001b[0m \u001b[0mmask\u001b[0m\u001b[0;34m.\u001b[0m\u001b[0many\u001b[0m\u001b[0;34m(\u001b[0m\u001b[0;34m)\u001b[0m\u001b[0;34m:\u001b[0m\u001b[0;34m\u001b[0m\u001b[0;34m\u001b[0m\u001b[0m\n\u001b[0;32m--> 112\u001b[0;31m             \u001b[0mresult\u001b[0m\u001b[0;34m[\u001b[0m\u001b[0mmask\u001b[0m\u001b[0;34m]\u001b[0m \u001b[0;34m=\u001b[0m \u001b[0mop\u001b[0m\u001b[0;34m(\u001b[0m\u001b[0mxrav\u001b[0m\u001b[0;34m[\u001b[0m\u001b[0mmask\u001b[0m\u001b[0;34m]\u001b[0m\u001b[0;34m,\u001b[0m \u001b[0myrav\u001b[0m\u001b[0;34m[\u001b[0m\u001b[0mmask\u001b[0m\u001b[0;34m]\u001b[0m\u001b[0;34m)\u001b[0m\u001b[0;34m\u001b[0m\u001b[0;34m\u001b[0m\u001b[0m\n\u001b[0m\u001b[1;32m    113\u001b[0m \u001b[0;34m\u001b[0m\u001b[0m\n\u001b[1;32m    114\u001b[0m     \u001b[0;32melse\u001b[0m\u001b[0;34m:\u001b[0m\u001b[0;34m\u001b[0m\u001b[0;34m\u001b[0m\u001b[0m\n",
      "\u001b[0;31mTypeError\u001b[0m: unsupported operand type(s) for /: 'str' and 'str'"
     ]
    }
   ],
   "source": [
    "dfs['away_won_ruck_per'] = dfs['away_rucks_won']/(dfs['away_rucks_won'] + dfs['home_rucks_won'])"
   ]
  },
  {
   "cell_type": "code",
   "execution_count": null,
   "id": "f6a298da-44c1-47f8-b411-ae33f5372f43",
   "metadata": {},
   "outputs": [],
   "source": []
  }
 ],
 "metadata": {
  "kernelspec": {
   "display_name": "Python 3",
   "language": "python",
   "name": "python3"
  },
  "language_info": {
   "codemirror_mode": {
    "name": "ipython",
    "version": 3
   },
   "file_extension": ".py",
   "mimetype": "text/x-python",
   "name": "python",
   "nbconvert_exporter": "python",
   "pygments_lexer": "ipython3",
   "version": "3.7.12"
  }
 },
 "nbformat": 4,
 "nbformat_minor": 5
}
